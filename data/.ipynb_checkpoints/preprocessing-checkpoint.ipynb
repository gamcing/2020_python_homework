{
 "cells": [
  {
   "cell_type": "code",
   "execution_count": 1,
   "metadata": {},
   "outputs": [],
   "source": [
    "import pandas as pd\n",
    "import numpy as np\n",
    "import re\n",
    "from snownlp import SnowNLP"
   ]
  },
  {
   "cell_type": "raw",
   "metadata": {},
   "source": [
    "读取数据\n",
    "dropna\n",
    "清洗评论文本\n",
    "    cnm替换；\n",
    "    nmsl替换；\n",
    "    HK替换成香港；\n",
    "    繁体字替换成简体字；\n",
    "    多个问号替换成一个；\n",
    "    ?展开全文c及其后面内容去掉；\n",
    "    去掉【】；\n",
    "    句末的问号去掉；\n",
    "    \n",
    "    O网页链接*:去掉；\n",
    "    所有字母变为小写；\n",
    "    2*?去掉；\n",
    "    连续三个以上的英文字母和下划线去掉；\n",
    "    《》只去掉两边书名号\n",
    "清洗人名\n",
    "    人名当中的所有字母下划线数字去掉；\n",
    "处理网页文本\n",
    "处理时间信息"
   ]
  },
  {
   "cell_type": "code",
   "execution_count": 2,
   "metadata": {},
   "outputs": [],
   "source": [
    "def wash_text(sentence):\n",
    "    if pd.isnull(sentence):\n",
    "        sentence = '空'\n",
    "    # cnm替换；\n",
    "    # nmsl替换；\n",
    "    sentence = sentence.replace('cnm','操你妈')\n",
    "    sentence = sentence.replace('nmsl','你妈死了')\n",
    "    # HK替换成香港；\n",
    "    sentence = sentence.replace('HK','香港').replace('hk','香港')\n",
    "    # 繁体字替换为简体字\n",
    "    sentence = SnowNLP(sentence).han\n",
    "#     # 多个问号替换成1个\n",
    "#     sub_string = r'\\?+'\n",
    "#     sentence = re.sub(sub_string, '?', sentence)\n",
    "#     # ?展开全文c及其后面内容去掉；\n",
    "#     sub_string = r'\\?展开全文c*'\n",
    "#     sentence = re.sub(sub_string,'', sentence)\n",
    "#     # 去掉【】\n",
    "#     sentence = sentence.replace('【','').replace('】','')\n",
    "#     # 去掉结尾的?\n",
    "#     if sentence[-1] == '?':\n",
    "#         sentence = sentence[:-1]\n",
    "#     # 把大写变成小写\n",
    "#     sentence = sentence.lower()\n",
    "#     # O网页链接*去掉\n",
    "#     sub_string = r'O网页链接*'\n",
    "#     sentence = re.sub(sub_string, '', sentence)\n",
    "#     # 连续三个以上的英文字母和下划线去掉；\n",
    "#     sub_string = r'[a-z-]{3}'\n",
    "#     sentence = re.sub(sub_string, '', sentence).replace('_','')\n",
    "#     # 《》只去掉两边书名号\n",
    "#     sub_string = '《*》'\n",
    "#     sentence = re.sub(sub_string, '', sentence)\n",
    "    return sentence\n",
    "\n",
    "def wash_name(name):\n",
    "    if pd.isnull(name):\n",
    "        name = ''\n",
    "    sub_string = r'[^\\u4e00-\\u9fa5]'\n",
    "    name = re.sub(sub_string, '', name)\n",
    "    return name\n",
    "\n",
    "def wash_pic_url(url):\n",
    "    if pd.isnull(url):\n",
    "        url = ''\n",
    "    if len(url)>3:\n",
    "        url = ''.join(url[1:-1].split('/')[:4])\n",
    "        url = url.replace('https://','')\n",
    "    else:\n",
    "        url = ''\n",
    "    return url\n",
    "\n",
    "def wash_radio_url(url):\n",
    "    if pd.isnull(url):\n",
    "        url = ''\n",
    "    if len(url)>3:\n",
    "        url = ''.join(url[1:-1].split('/')[:3])\n",
    "        url = url.replace('https://','')\n",
    "    else:\n",
    "        url = ''\n",
    "    return url"
   ]
  },
  {
   "cell_type": "code",
   "execution_count": 3,
   "metadata": {},
   "outputs": [],
   "source": [
    "def wash_data(data, labeled=True):\n",
    "    if labeled:\n",
    "        data['情感倾向'][data['情感倾向']=='-2'] = '-1'\n",
    "        data['情感倾向'][data['情感倾向']=='-'] = '-1'\n",
    "        data = data[data['情感倾向'].isnull()==False]\n",
    "    data['发布人账号'] = data['发布人账号'].apply(wash_name)\n",
    "    data['微博中文内容'] = data['微博中文内容'].apply(wash_text)\n",
    "    data['微博图片'] = data['微博图片'].apply(wash_pic_url)\n",
    "    data['微博视频'] = data['微博视频'].apply(wash_radio_url)\n",
    "    data = data.dropna()\n",
    "    output =  '[' + data['微博发布时间'] + ']' + data['微博中文内容']\n",
    "    if labeled:\n",
    "        output = output + 'LABELIS:' + data['情感倾向']\n",
    "    return output"
   ]
  },
  {
   "cell_type": "code",
   "execution_count": 4,
   "metadata": {},
   "outputs": [],
   "source": [
    "train_labeled = pd.read_csv('./raw/nCoV_100k_train.labled.csv',encoding='ANSI')\n",
    "test = pd.read_csv('./raw/nCov_10k_test.csv',encoding='ANSI')"
   ]
  },
  {
   "cell_type": "code",
   "execution_count": 5,
   "metadata": {},
   "outputs": [
    {
     "name": "stderr",
     "output_type": "stream",
     "text": [
      "C:\\Users\\SunMinghong\\Anaconda3\\lib\\site-packages\\ipykernel_launcher.py:3: SettingWithCopyWarning: \n",
      "A value is trying to be set on a copy of a slice from a DataFrame\n",
      "\n",
      "See the caveats in the documentation: http://pandas.pydata.org/pandas-docs/stable/user_guide/indexing.html#returning-a-view-versus-a-copy\n",
      "  This is separate from the ipykernel package so we can avoid doing imports until\n",
      "C:\\Users\\SunMinghong\\Anaconda3\\lib\\site-packages\\pandas\\core\\generic.py:9114: SettingWithCopyWarning: \n",
      "A value is trying to be set on a copy of a slice from a DataFrame\n",
      "\n",
      "See the caveats in the documentation: http://pandas.pydata.org/pandas-docs/stable/user_guide/indexing.html#returning-a-view-versus-a-copy\n",
      "  self._update_inplace(new_data)\n",
      "C:\\Users\\SunMinghong\\Anaconda3\\lib\\site-packages\\ipykernel_launcher.py:1: SettingWithCopyWarning: \n",
      "A value is trying to be set on a copy of a slice from a DataFrame\n",
      "\n",
      "See the caveats in the documentation: http://pandas.pydata.org/pandas-docs/stable/user_guide/indexing.html#returning-a-view-versus-a-copy\n",
      "  \"\"\"Entry point for launching an IPython kernel.\n",
      "C:\\Users\\SunMinghong\\Anaconda3\\lib\\site-packages\\ipykernel_launcher.py:4: SettingWithCopyWarning: \n",
      "A value is trying to be set on a copy of a slice from a DataFrame\n",
      "\n",
      "See the caveats in the documentation: http://pandas.pydata.org/pandas-docs/stable/user_guide/indexing.html#returning-a-view-versus-a-copy\n",
      "  after removing the cwd from sys.path.\n"
     ]
    }
   ],
   "source": [
    "train_labeled_text = wash_data(train_labeled[train_labeled['情感倾向'].isin(['1','-1','0','-2','-'])], labeled=True)\n",
    "test_text = wash_data(test,labeled=False)"
   ]
  },
  {
   "cell_type": "code",
   "execution_count": 6,
   "metadata": {},
   "outputs": [],
   "source": [
    "%matplotlib inline"
   ]
  },
  {
   "cell_type": "code",
   "execution_count": 7,
   "metadata": {},
   "outputs": [
    {
     "data": {
      "text/plain": [
       "<matplotlib.axes._subplots.AxesSubplot at 0x1fd78466448>"
      ]
     },
     "execution_count": 7,
     "metadata": {},
     "output_type": "execute_result"
    },
    {
     "data": {
      "image/png": "[encoded data removed]",
      "text/plain": [
       "<Figure size 432x288 with 1 Axes>"
      ]
     },
     "metadata": {
      "needs_background": "light"
     },
     "output_type": "display_data"
    }
   ],
   "source": [
    "train_labeled_text.apply(len).plot(kind='kde')"
   ]
  },
  {
   "cell_type": "code",
   "execution_count": 8,
   "metadata": {},
   "outputs": [
    {
     "data": {
      "text/plain": [
       "0       #你好2020#新年第一天元气满满的早起出门买早饭结果高估了自己抗冻能力回家成功冻发烧（大概...\n",
       "1       大宝又感冒鼻塞咳嗽了，还有发烧。队友加班几天不回。感觉自己的情绪在家已然是随时引爆的状态。情...\n",
       "2            还要去输两天液，这天也太容易感冒发烧了，一定要多喝热水啊? [01月03日 23:53]\n",
       "3                  我太难了别人怎么发烧都没事就我一检查甲型流感? [01月03日 23:27]\n",
       "4       果然是要病一场的喽回来第三天开始感冒今儿还发烧了喉咙眼睛都难受的一匹怎么样能不经意让我的毕设...\n",
       "                              ...                        \n",
       "9995               「2020的黑天鹅事件」>2019-nCov? [01月24日 08:46]\n",
       "9996    心灵鸡汤#武汉加油#我们所有人，和我们这个国家一起，正在经历着一场这个星球上史无前例的考验...\n",
       "9997    武大人民医院：发热咳嗽并非新冠肺炎的唯一首发症状(来自@界面新闻)武汉大学人民医院研究组1月...\n",
       "9998                 闭关第二天发现一根白发2019-nCoV? [01月27日 14:09]\n",
       "9999    //@高反台:昨天还在想如果有动画短片就好了，今天就有了，视频果然更直接有效吧。 [01月2...\n",
       "Length: 10000, dtype: object"
      ]
     },
     "execution_count": 8,
     "metadata": {},
     "output_type": "execute_result"
    }
   ],
   "source": [
    "test_text"
   ]
  },
  {
   "cell_type": "code",
   "execution_count": 9,
   "metadata": {},
   "outputs": [],
   "source": [
    "with open('./v1_data/train_labeled.txt', 'w', encoding='utf-8') as f:\n",
    "    for i in train_labeled_text.tolist():\n",
    "        f.write(i+'\\n')\n",
    "with open('./v1_data/test.txt', 'w', encoding='utf-8') as f:\n",
    "    for i in test_text.tolist():\n",
    "        f.write(i+'\\n')"
   ]
  },
  {
   "cell_type": "code",
   "execution_count": null,
   "metadata": {},
   "outputs": [],
   "source": []
  }
 ],
 "metadata": {
  "kernelspec": {
   "display_name": "Python 3",
   "language": "python",
   "name": "python3"
  },
  "language_info": {
   "codemirror_mode": {
    "name": "ipython",
    "version": 3
   },
   "file_extension": ".py",
   "mimetype": "text/x-python",
   "name": "python",
   "nbconvert_exporter": "python",
   "pygments_lexer": "ipython3",
   "version": "3.7.4"
  }
 },
 "nbformat": 4,
 "nbformat_minor": 4
}
